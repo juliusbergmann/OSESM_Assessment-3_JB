{
 "cells": [
  {
   "cell_type": "markdown",
   "metadata": {
    "slideshow": {
     "slide_type": "slide"
    }
   },
   "source": [
    "# Westeros Tutorial - Introduction to the MESSAGEix framework: Creating a baseline scenario \n",
    "\n",
    "**Integrated Assessment Modeling for the 21st Century**\n",
    "\n",
    "_This tutorial is based on a presentation by Matthew Gidden ([@gidden](https://github.com/gidden)) for a summer school at the the **Centre National de la Recherche Scientifique (CNRS)** on *Integrated Assessment Modeling* in June 2018; and has been extended by members of the MESSAGE*ix* team._\n",
    "\n",
    "## Scope of this tutorial: building a simple energy system model\n",
    "\n",
    "The goal of this tutorial is to build a simple energy model using *MESSAGEix* with minimal features that can be expanded in future tutorials.  \n",
    "\n",
    "We will build the model component by component, focusing on both the **how** (code implementation) and **why** (mathematical formulation)."
   ]
  },
  {
   "cell_type": "markdown",
   "metadata": {
    "slideshow": {
     "slide_type": "slide"
    }
   },
   "source": [
    "## Online documentation\n",
    "\n",
    "The IIASA ECE program maintains extensive documentation for MESSAGE*ix* at [**docs.messageix.org**](https://docs.messageix.org).\n",
    " \n",
    "In this documentation you will find:\n",
    "\n",
    "- A [“Getting started”](https://docs.messageix.org/en/stable/#getting-started) section, including:\n",
    "  - How to [**install MESSAGE*ix***](https://docs.messageix.org/en/stable/install.html). You **must** install MESSAGE*ix* in order to run this tutorial.\n",
    "  - Information about [**required knowledge and skills**](https://docs.messageix.org/en/stable/prereqs.html) for using MESSAGE*ix*. From these, this tutorial assumes you at least know:\n",
    "    - how to call Python functions via [keyword arguments](https://docs.python.org/3/tutorial/controlflow.html#keyword-arguments);\n",
    "    - about [pandas](https://pandas.pydata.org/pandas-docs/stable/user_guide/10min.html) and its basic data structures, e.g. `pandas.DataFrame`; and\n",
    "    - the [`message_ix.make_df()`](https://docs.messageix.org/en/stable/api.html#message_ix.util.make_df) utility function.\n",
    "  - How to [download and run these tutorial notebooks](https://docs.messageix.org/en/stable/tutorials.html).\n",
    "    This page also gives a **recommended order** for the remaining Westeros tutorials, for both beginner and more advanced users.\n",
    "- [**User guidelines** and a notice](https://docs.messageix.org/en/stable/notice.html), to read if you intend to publish research about new models created using MESSAGE*ix*.\n",
    "- much, much more!\n",
    "\n",
    "<img src='_static/doc_page.png'>"
   ]
  },
  {
   "cell_type": "markdown",
   "metadata": {
    "slideshow": {
     "slide_type": "slide"
    }
   },
   "source": [
    "## A stylized reference energy system model for Westeros\n",
    "\n",
    "This tutorial is based on the country of Westeros from the TV show \"Game of Thrones\".\n",
    "\n",
    "<img src='_static/baseline_res.png' width='900'>"
   ]
  },
  {
   "cell_type": "markdown",
   "metadata": {
    "slideshow": {
     "slide_type": "slide"
    }
   },
   "source": [
    "## MESSAGEix: the mathematical paradigm\n",
    "\n",
    "At its core, *MESSAGEix* is an optimization problem:\n",
    "\n",
    "> $\\min \\quad ~c^T \\cdot x$  \n",
    "> $~s.t. \\quad A \\cdot x \\leq b$\n",
    "\n",
    "More explicitly, the model...\n",
    "- optimizes an **objective function**, nominally minimizing total **system costs**\n",
    "- under a system of **constraints** (inequalities or equality conditions)\n",
    "\n",
    "The mathematical implementation includes a number of features that make it particularly geared towards the modelling of *energy-water-land systems* in the context of *climate change mitigation and sustainable development*.\n",
    "\n",
    "Throughout this document, the mathematical formulation follows the convention that\n",
    "- decision **VARIABLES** ($x$) are capitalized\n",
    "- input **parameters** ($A$, $b$) are lower case"
   ]
  },
  {
   "cell_type": "markdown",
   "metadata": {
    "slideshow": {
     "slide_type": "slide"
    }
   },
   "source": [
    "## MESSAGEix: connected to the *ix modeling platform (ixmp)*\n",
    "\n",
    "The *modeling platform for integrated and cross-cutting analysis* (ixmp) provides a powerful framework for working with scenarios, including a database infrastucture for data version control and interfaces to scientific programming languages.\n",
    "\n",
    "<img src='_static/message_ixmp.png' width='700'>"
   ]
  },
  {
   "cell_type": "markdown",
   "metadata": {
    "slideshow": {
     "slide_type": "slide"
    }
   },
   "source": [
    "## Ready, steady, go!\n",
    "\n",
    "First, we import all the packages we need. We import a utility function called `make_df`, which can be used to wrap the input data into dataframes that can be saved in model parameters."
   ]
  },
  {
   "cell_type": "code",
   "execution_count": 1,
   "metadata": {
    "slideshow": {
     "slide_type": "fragment"
    }
   },
   "outputs": [
    {
     "data": {
      "application/javascript": [
       "if (typeof IPython !== 'undefined') { IPython.OutputArea.prototype._should_scroll = function(lines){ return false; }}"
      ],
      "text/plain": [
       "<IPython.core.display.Javascript object>"
      ]
     },
     "metadata": {},
     "output_type": "display_data"
    }
   ],
   "source": [
    "import pandas as pd\n",
    "import ixmp\n",
    "import message_ix\n",
    "\n",
    "from message_ix.utils import make_df\n",
    "\n",
    "%matplotlib inline"
   ]
  },
  {
   "cell_type": "markdown",
   "metadata": {
    "slideshow": {
     "slide_type": "slide"
    }
   },
   "source": [
    "The *MESSAGEix* model is built using the `ixmp` `Platform`. The `Platform` is your connection to a database for storing model input data and scenario results."
   ]
  },
  {
   "cell_type": "code",
   "execution_count": 2,
   "metadata": {
    "slideshow": {
     "slide_type": "fragment"
    }
   },
   "outputs": [
    {
     "name": "stdout",
     "output_type": "stream",
     "text": [
      "2022-06-13 04:54:19,186  INFO at.ac.iiasa.ixmp.Platform:165 - Welcome to the IX modeling platform!\n",
      "2022-06-13 04:54:19,190  INFO at.ac.iiasa.ixmp.Platform:166 -  connected to database 'jdbc:hsqldb:file:/Users/juliusbergmann/.local/share/ixmp/localdb/default' (user: ixmp)...\n"
     ]
    }
   ],
   "source": [
    "mp = ixmp.Platform()"
   ]
  },
  {
   "cell_type": "markdown",
   "metadata": {
    "slideshow": {
     "slide_type": "slide"
    }
   },
   "source": [
    "Once connected, we create a new `Scenario` to build our model. A `Scenario` instance will contain all the model input data and results."
   ]
  },
  {
   "cell_type": "code",
   "execution_count": 3,
   "metadata": {
    "slideshow": {
     "slide_type": "fragment"
    }
   },
   "outputs": [],
   "source": [
    "scenario = message_ix.Scenario(\n",
    "    mp, model=\"Westeros Electrified\", scenario=\"baseline\", version=\"new\"\n",
    ")"
   ]
  },
  {
   "cell_type": "markdown",
   "metadata": {
    "slideshow": {
     "slide_type": "slide"
    }
   },
   "source": [
    "## Model Structure\n",
    "\n",
    "We start by defining basic characteristics of the model, including time, space, and the energy system structure."
   ]
  },
  {
   "cell_type": "markdown",
   "metadata": {
    "slideshow": {
     "slide_type": "fragment"
    }
   },
   "source": [
    "The model horizon will span 3 decades (690-720). Let's assume that we're far in the future after the events of A Song of Ice and Fire (which occur ~300 years after Aegon the conqueror).\n",
    "\n",
    "| Math Notation | Model Meaning                |\n",
    "|:--------------|:-----------------------------|\n",
    "| $y \\in Y^H$   | time periods in history      |\n",
    "| $y \\in Y^M$   | time periods in model horizon|"
   ]
  },
  {
   "cell_type": "code",
   "execution_count": 4,
   "metadata": {
    "slideshow": {
     "slide_type": "fragment"
    }
   },
   "outputs": [],
   "source": [
    "history = [690]\n",
    "model_horizon = [700, 710, 720]\n",
    "scenario.add_horizon(year=history + model_horizon, firstmodelyear=model_horizon[0])"
   ]
  },
  {
   "cell_type": "markdown",
   "metadata": {
    "slideshow": {
     "slide_type": "slide"
    }
   },
   "source": [
    "Our model will have a single `\"node\"`, i.e., its spatial dimension.\n",
    "\n",
    "\n",
    "| Math Notation | Model Meaning|\n",
    "|:--------------|:-------------|\n",
    "| $n \\in N$     | node         |"
   ]
  },
  {
   "cell_type": "code",
   "execution_count": 5,
   "metadata": {
    "slideshow": {
     "slide_type": "fragment"
    }
   },
   "outputs": [],
   "source": [
    "country = \"Westeros\"\n",
    "scenario.add_spatial_sets({\"country\": country})"
   ]
  },
  {
   "cell_type": "markdown",
   "metadata": {
    "slideshow": {
     "slide_type": "slide"
    }
   },
   "source": [
    "And we fill in the energy system's `\"commodity\"`, `\"level\"`, `\"technology\"`, and `\"mode\"` (i.e., modes of operation of technologies). This information defines how certain technologies operate. \n",
    "\n",
    "\n",
    "| Math Notation | Model Meaning|\n",
    "|:--------------|:-------------|\n",
    "| $c \\in C$     | commodity    |\n",
    "| $l \\in L$     | level        |\n",
    "| $t \\in T$     | technology   |\n",
    "| $m \\in M$     | mode         |"
   ]
  },
  {
   "cell_type": "code",
   "execution_count": 6,
   "metadata": {
    "slideshow": {
     "slide_type": "fragment"
    }
   },
   "outputs": [],
   "source": [
    "scenario.add_set(\"commodity\", [\"electricity\", \"light\"])\n",
    "scenario.add_set(\"level\", [\"secondary\", \"final\", \"useful\"])\n",
    "scenario.add_set(\"technology\", [\"coal_ppl\", \"wind_ppl\", \"pv_ppl\", \"grid\", \"bulb\"])\n",
    "scenario.add_set(\"mode\", \"standard\")"
   ]
  },
  {
   "cell_type": "markdown",
   "metadata": {
    "slideshow": {
     "slide_type": "slide"
    }
   },
   "source": [
    "## Supply and Demand (or Balancing Commodities)"
   ]
  },
  {
   "cell_type": "markdown",
   "metadata": {
    "slideshow": {
     "slide_type": "fragment"
    }
   },
   "source": [
    "The fundamental premise of the model is to satisfy demand for energy (services).\n",
    "To first order, demand for services like electricity track with economic productivity (GDP).\n",
    "We define a GDP profile similar to first-world GDP growth from [1900-1930](https://en.wikipedia.org/wiki/List_of_regions_by_past_GDP):"
   ]
  },
  {
   "cell_type": "code",
   "execution_count": 7,
   "metadata": {
    "slideshow": {
     "slide_type": "fragment"
    }
   },
   "outputs": [
    {
     "data": {
      "text/plain": [
       "<AxesSubplot:title={'center':'GDP profile'}, xlabel='Time'>"
      ]
     },
     "execution_count": 7,
     "metadata": {},
     "output_type": "execute_result"
    },
    {
     "data": {
      "image/png": "[encoded data removed]",
      "text/plain": [
       "<Figure size 432x288 with 1 Axes>"
      ]
     },
     "metadata": {
      "needs_background": "light"
     },
     "output_type": "display_data"
    }
   ],
   "source": [
    "gdp_profile = pd.Series([1.0, 1.5, 1.9], index=pd.Index(model_horizon, name=\"Time\"))\n",
    "gdp_profile.plot(title=\"GDP profile\")"
   ]
  },
  {
   "cell_type": "markdown",
   "metadata": {
    "slideshow": {
     "slide_type": "slide"
    }
   },
   "source": [
    "The `COMMODITY_BALANCE_GT` and `COMMODITY_BALANCE_LT` equations ensure that `\"demand\"` for each `\"commodity\"` is met at each `\"level\"` in the energy system.\n",
    "The equation is copied below in this tutorial notebook, but every model equation is available for reference in\n",
    "the [Mathematical formulation](https://docs.messageix.org/en/stable/model/MESSAGE/model_core.html) section of the *MESSAGEix* documentation.\n",
    "\n",
    "$\\sum_{\\substack{n^L,t,m \\\\ y^V \\leq y}} \\text{output}_{n^L,t,y^V,y,m,n,c,l} \\cdot \\text{ACT}_{n^L,t,y^V,y,m}$\n",
    "$- \\sum_{\\substack{n^L,t,m, \\\\ y^V \\leq y}} \\text{input}_{n^L,t,y^V,y,m,n,c,l} \\cdot \\text{ACT}_{n^L,t,m,y}$  \n",
    "$\\geq \\text{demand}_{n,c,l,y} \\quad \\forall \\ l \\in L$\n",
    "\n",
    "While `\"demand\"` must be met, supply can *exceed* demand allowing the model to plan for meeting demand in future periods by storing storable commodities.\n"
   ]
  },
  {
   "cell_type": "markdown",
   "metadata": {
    "slideshow": {
     "slide_type": "slide"
    }
   },
   "source": [
    "First we establish demand. Let's assume\n",
    "\n",
    "- 40 million people in [300 AC](https://atlasoficeandfireblog.wordpress.com/2016/03/06/the-population-of-the-seven-kingdoms/)\n",
    "- similar population growth to Earth in the same time frame [(~factor of 12)](https://en.wikipedia.org/wiki/World_population_estimates)\n",
    "- a per capita demand for electricity of 1000 kWh\n",
    "- and 8760 hours in a year (of course!)\n",
    "\n",
    "Then we can add the demand parameter"
   ]
  },
  {
   "cell_type": "markdown",
   "metadata": {
    "slideshow": {
     "slide_type": "skip"
    }
   },
   "source": [
    "Note present day: [~72000 GWh in Austria](https://www.iea.org/statistics/?country=AUSTRIA&year=2016&category=Energy%20consumption&indicator=undefined&mode=chart&dataTable=INDICATORS) with population [~8.7M](http://www.austria.org/population/) which is ~8300 kWh per capita"
   ]
  },
  {
   "cell_type": "code",
   "execution_count": 8,
   "metadata": {
    "slideshow": {
     "slide_type": "fragment"
    }
   },
   "outputs": [],
   "source": [
    "demand_per_year = 40 * 12 * 1000 / 8760\n",
    "light_demand = pd.DataFrame(\n",
    "    {\n",
    "        \"node\": country,\n",
    "        \"commodity\": \"light\",\n",
    "        \"level\": \"useful\",\n",
    "        \"year\": model_horizon,\n",
    "        \"time\": \"year\",\n",
    "        \"value\": (demand_per_year * gdp_profile).round(),\n",
    "        \"unit\": \"GWa\",\n",
    "    }\n",
    ")"
   ]
  },
  {
   "cell_type": "markdown",
   "metadata": {
    "slideshow": {
     "slide_type": "fragment"
    }
   },
   "source": [
    "`light_demand` illustrates the data format for *MESSAGEix* parameters. It is a `pandas.DataFrame` containing three types of information in a specific format:\n",
    "\n",
    "- A `value` column containing the numerical values for this parameter.\n",
    "- A `unit` column.\n",
    "- Other columns (`\"node\"`, `\"commodity\"`, `\"level\"`, `\"time\"`) that indicate the key to which each value applies."
   ]
  },
  {
   "cell_type": "code",
   "execution_count": 9,
   "metadata": {
    "slideshow": {
     "slide_type": "fragment"
    }
   },
   "outputs": [
    {
     "data": {
      "text/html": [
       "<div>\n",
       "<style scoped>\n",
       "    .dataframe tbody tr th:only-of-type {\n",
       "        vertical-align: middle;\n",
       "    }\n",
       "\n",
       "    .dataframe tbody tr th {\n",
       "        vertical-align: top;\n",
       "    }\n",
       "\n",
       "    .dataframe thead th {\n",
       "        text-align: right;\n",
       "    }\n",
       "</style>\n",
       "<table border=\"1\" class=\"dataframe\">\n",
       "  <thead>\n",
       "    <tr style=\"text-align: right;\">\n",
       "      <th></th>\n",
       "      <th>node</th>\n",
       "      <th>commodity</th>\n",
       "      <th>level</th>\n",
       "      <th>year</th>\n",
       "      <th>time</th>\n",
       "      <th>value</th>\n",
       "      <th>unit</th>\n",
       "    </tr>\n",
       "    <tr>\n",
       "      <th>Time</th>\n",
       "      <th></th>\n",
       "      <th></th>\n",
       "      <th></th>\n",
       "      <th></th>\n",
       "      <th></th>\n",
       "      <th></th>\n",
       "      <th></th>\n",
       "    </tr>\n",
       "  </thead>\n",
       "  <tbody>\n",
       "    <tr>\n",
       "      <th>700</th>\n",
       "      <td>Westeros</td>\n",
       "      <td>light</td>\n",
       "      <td>useful</td>\n",
       "      <td>700</td>\n",
       "      <td>year</td>\n",
       "      <td>55.0</td>\n",
       "      <td>GWa</td>\n",
       "    </tr>\n",
       "    <tr>\n",
       "      <th>710</th>\n",
       "      <td>Westeros</td>\n",
       "      <td>light</td>\n",
       "      <td>useful</td>\n",
       "      <td>710</td>\n",
       "      <td>year</td>\n",
       "      <td>82.0</td>\n",
       "      <td>GWa</td>\n",
       "    </tr>\n",
       "    <tr>\n",
       "      <th>720</th>\n",
       "      <td>Westeros</td>\n",
       "      <td>light</td>\n",
       "      <td>useful</td>\n",
       "      <td>720</td>\n",
       "      <td>year</td>\n",
       "      <td>104.0</td>\n",
       "      <td>GWa</td>\n",
       "    </tr>\n",
       "  </tbody>\n",
       "</table>\n",
       "</div>"
      ],
      "text/plain": [
       "          node commodity   level  year  time  value unit\n",
       "Time                                                    \n",
       "700   Westeros     light  useful   700  year   55.0  GWa\n",
       "710   Westeros     light  useful   710  year   82.0  GWa\n",
       "720   Westeros     light  useful   720  year  104.0  GWa"
      ]
     },
     "execution_count": 9,
     "metadata": {},
     "output_type": "execute_result"
    }
   ],
   "source": [
    "light_demand"
   ]
  },
  {
   "cell_type": "code",
   "execution_count": 10,
   "metadata": {
    "slideshow": {
     "slide_type": "fragment"
    }
   },
   "outputs": [],
   "source": [
    "# We use `add_par` for adding data to a MESSAGEix parameter\n",
    "scenario.add_par(\"demand\", light_demand)"
   ]
  },
  {
   "cell_type": "markdown",
   "metadata": {
    "slideshow": {
     "slide_type": "fragment"
    }
   },
   "source": [
    "In order to define the input and output commodites of each technology, we define some common keys.\n",
    "\n",
    "- **Input** quantities require `_origin` keys that specify where the inputs are *received from*.\n",
    "- **Output** quantities require `_dest` keys that specify where the outputs are *transferred to*."
   ]
  },
  {
   "cell_type": "code",
   "execution_count": 11,
   "metadata": {
    "slideshow": {
     "slide_type": "skip"
    }
   },
   "outputs": [],
   "source": [
    "year_df = scenario.vintage_and_active_years()\n",
    "vintage_years, act_years = year_df[\"year_vtg\"], year_df[\"year_act\"]\n",
    "\n",
    "# Some common values to be used for both the \"input\" and \"output\" parameters\n",
    "base = dict(\n",
    "    node_loc=country,\n",
    "    year_vtg=vintage_years,\n",
    "    year_act=act_years,\n",
    "    mode=\"standard\",\n",
    "    time=\"year\",\n",
    "    unit=\"-\",\n",
    ")\n",
    "\n",
    "# Use the message_ix utility function make_df() to create a base data frame for\n",
    "# different \"input\" parameter values\n",
    "base_input = make_df(\"input\", **base, node_origin=country, time_origin=\"year\")\n",
    "\n",
    "# Create a base data frame for different \"output\" parameter values\n",
    "base_output = make_df(\"output\", **base, node_dest=country, time_dest=\"year\")"
   ]
  },
  {
   "cell_type": "markdown",
   "metadata": {
    "slideshow": {
     "slide_type": "slide"
    }
   },
   "source": [
    "Working backwards along the Reference Energy System, we can add connections for the `\"bulb\"`. A light bulb…\n",
    "\n",
    "- receives `\"input\"` in the form of the `\"electricity\"` `commodity` at the `\"final\"` energy `level`, and\n",
    "- `\"output\"`s the `commodity` `\"light\"` at the `\"useful\"` energy `level`.\n",
    "\n",
    "The `value` in the input and output parameter is used to represent the effiecieny of a technology (efficiency = output/input).\n",
    "For example, input of 1.0 and output of 1.0 for a technology shows that the efficiency of that technology is 100% in converting\n",
    "the input commodity to the output commodity."
   ]
  },
  {
   "cell_type": "code",
   "execution_count": 12,
   "metadata": {
    "slideshow": {
     "slide_type": "fragment"
    }
   },
   "outputs": [],
   "source": [
    "# Extend `base_output` by filling in some of the other columns, using the\n",
    "# pandas.DataFrame.assign() method\n",
    "bulb_out = base_output.assign(\n",
    "    technology=\"bulb\", commodity=\"light\", level=\"useful\", value=1.0\n",
    ")\n",
    "scenario.add_par(\"output\", bulb_out)\n",
    "\n",
    "bulb_in = base_input.assign(\n",
    "    technology=\"bulb\", commodity=\"electricity\", level=\"final\", value=1.0\n",
    ")\n",
    "scenario.add_par(\"input\", bulb_in)"
   ]
  },
  {
   "cell_type": "markdown",
   "metadata": {},
   "source": [
    "If you don't know the dimensions for a specific parameter—in other works, which keyword arguments you need to pass to `make_df()`, you can use `Scenario.idx_names()`:"
   ]
  },
  {
   "cell_type": "code",
   "execution_count": 13,
   "metadata": {},
   "outputs": [
    {
     "data": {
      "text/plain": [
       "['node_loc',\n",
       " 'technology',\n",
       " 'year_vtg',\n",
       " 'year_act',\n",
       " 'mode',\n",
       " 'node_origin',\n",
       " 'commodity',\n",
       " 'level',\n",
       " 'time',\n",
       " 'time_origin']"
      ]
     },
     "execution_count": 13,
     "metadata": {},
     "output_type": "execute_result"
    }
   ],
   "source": [
    "scenario.idx_names(\"input\")"
   ]
  },
  {
   "cell_type": "markdown",
   "metadata": {
    "slideshow": {
     "slide_type": "slide"
    }
   },
   "source": [
    "Next, we parameterize the electrical `\"grid\"`, which…\n",
    "\n",
    "- receives electricity at the `\"secondary\"` energy level.\n",
    "- also outputs electricity, but at the `\"final\"` energy level (to be used by the light bulb).\n",
    "\n",
    "Because the grid has transmission losses, only 90% of the input electricity is available as output."
   ]
  },
  {
   "cell_type": "code",
   "execution_count": 14,
   "metadata": {
    "slideshow": {
     "slide_type": "fragment"
    }
   },
   "outputs": [],
   "source": [
    "grid_efficiency = 0.9\n",
    "grid_out = base_output.assign(\n",
    "    technology=\"grid\",\n",
    "    commodity=\"electricity\",\n",
    "    level=\"final\",\n",
    "    value=grid_efficiency,\n",
    ")\n",
    "scenario.add_par(\"output\", grid_out)\n",
    "\n",
    "grid_in = base_input.assign(\n",
    "    technology=\"grid\", commodity=\"electricity\", level=\"secondary\", value=1.0\n",
    ")\n",
    "scenario.add_par(\"input\", grid_in)"
   ]
  },
  {
   "cell_type": "markdown",
   "metadata": {
    "slideshow": {
     "slide_type": "slide"
    }
   },
   "source": [
    "And finally, our power plants. The model does not include the fossil resources used as `\"input\"` for coal plants; however, costs of coal extraction are included in the parameter $variable\\_cost$."
   ]
  },
  {
   "cell_type": "code",
   "execution_count": 15,
   "metadata": {
    "slideshow": {
     "slide_type": "fragment"
    }
   },
   "outputs": [],
   "source": [
    "coal_out = base_output.assign(\n",
    "    technology=\"coal_ppl\",\n",
    "    commodity=\"electricity\",\n",
    "    level=\"secondary\",\n",
    "    value=1.0,\n",
    "    unit=\"GWa\",\n",
    ")\n",
    "scenario.add_par(\"output\", coal_out)\n",
    "\n",
    "wind_out = base_output.assign(\n",
    "    technology=\"wind_ppl\",\n",
    "    commodity=\"electricity\",\n",
    "    level=\"secondary\",\n",
    "    value=1.0,\n",
    "    unit=\"GWa\",\n",
    ")\n",
    "scenario.add_par(\"output\", wind_out)\n",
    "\n",
    "pv_out = base_output.assign(\n",
    "    technology=\"pv_ppl\",\n",
    "    commodity=\"electricity\",\n",
    "    level=\"secondary\",\n",
    "    value=1.0,\n",
    "    unit=\"GWa\",\n",
    ")\n",
    "scenario.add_par(\"output\", pv_out)"
   ]
  },
  {
   "cell_type": "markdown",
   "metadata": {
    "slideshow": {
     "slide_type": "slide"
    }
   },
   "source": [
    "## Operational Constraints and Parameters"
   ]
  },
  {
   "cell_type": "markdown",
   "metadata": {
    "slideshow": {
     "slide_type": "fragment"
    }
   },
   "source": [
    "The model has a number of \"reality\" constraints, which relate built *capacity* (`CAP`) to available power, or the *activity* (`ACT`) of that technology.\n",
    "\n",
    "The **capacity constraint** limits the activity of a technology to the installed capacity multiplied by a capacity factor. Capacity factor or is the fraction of installed capacity that can be active in a certain period (here the sub-annual time step *h*).\n",
    "\n",
    "$$\\sum_{m} \\text{ACT}_{n,t,y^V,y,m,h}\n",
    "    \\leq \\text{duration_time}_{h} \\cdot \\text{capacity_factor}_{n,t,y^V,y,h} \\cdot \\text{CAP}_{n,t,y^V,y}\n",
    "    \\quad t \\ \\in \\ T^{INV}$$\n"
   ]
  },
  {
   "cell_type": "markdown",
   "metadata": {
    "slideshow": {
     "slide_type": "slide"
    }
   },
   "source": [
    "This requires us to provide the `\"capacity_factor\"` for each technology. Here, we call `make_df()` and `add_par()` in a loop to execute similar code for three technologies:"
   ]
  },
  {
   "cell_type": "code",
   "execution_count": 16,
   "metadata": {
    "slideshow": {
     "slide_type": "fragment"
    }
   },
   "outputs": [],
   "source": [
    "capacity_factor = {\n",
    "    \"coal_ppl\": 1,\n",
    "    \"wind_ppl\": 0.36,\n",
    "    \"pv_ppl\": 0.2,\n",
    "    \"bulb\": 1,\n",
    "}\n",
    "\n",
    "for tec, val in capacity_factor.items():\n",
    "    df = make_df(\n",
    "        \"capacity_factor\",\n",
    "        node_loc=country,\n",
    "        year_vtg=vintage_years,\n",
    "        year_act=act_years,\n",
    "        time=\"year\",\n",
    "        unit=\"-\",\n",
    "        technology=tec,\n",
    "        value=val,\n",
    "    )\n",
    "    scenario.add_par(\"capacity_factor\", df)"
   ]
  },
  {
   "cell_type": "markdown",
   "metadata": {
    "slideshow": {
     "slide_type": "slide"
    }
   },
   "source": [
    "The model can further be provided `\"technical_lifetime\"`s in order to properly manage deployed capacity and related costs via the **capacity maintenance** constraint:\n",
    "\n",
    "$\\text{CAP}_{n,t,y^V,y} \\leq \\text{remaining_capacity}_{n,t,y^V,y} \\cdot \\text{value} \\quad \\forall \\quad t \\in T^{INV}$\n",
    "\n",
    "where `value` can take different forms depending on what time period is considered:\n",
    "\n",
    "| Value                                               | Condition                                           |\n",
    "|:----------------------------------------------------|:----------------------------------------------------|\n",
    "| $\\Delta_y \\text{historical_new_capacity}_{n,t,y^V}$ | $y$ is first model period                           |\n",
    "| $\\Delta_y \\text{CAP_NEW}_{n,t,y^V}$                 | $y = y^V$                                           |\n",
    "| $\\text{CAP}_{n,t,y^V,y-1}$                          | $0 < y - y^V < \\text{technical_lifetime}_{n,t,y^V}$ |\n",
    "\n",
    "\n",
    "$\\text{CAP_NEW}_{n,t,y^V}$ is the newly installed capacity in one year, where as \n",
    "$\\text{CAP}_{n,t,y^V,y-1}$ is the amount installed at the end of a (usually multi-year) period."
   ]
  },
  {
   "cell_type": "code",
   "execution_count": 17,
   "metadata": {
    "slideshow": {
     "slide_type": "fragment"
    }
   },
   "outputs": [],
   "source": [
    "lifetime = {\n",
    "    \"coal_ppl\": 20,\n",
    "    \"wind_ppl\": 20,\n",
    "    \"pv_ppl\": 20,\n",
    "    \"bulb\": 1,\n",
    "}\n",
    "\n",
    "for tec, val in lifetime.items():\n",
    "    df = make_df(\n",
    "        \"technical_lifetime\",\n",
    "        node_loc=country,\n",
    "        year_vtg=model_horizon,\n",
    "        unit=\"y\",\n",
    "        technology=tec,\n",
    "        value=val,\n",
    "    )\n",
    "    scenario.add_par(\"technical_lifetime\", df)"
   ]
  },
  {
   "cell_type": "markdown",
   "metadata": {
    "slideshow": {
     "slide_type": "slide"
    }
   },
   "source": [
    "## Technological Diffusion and Contraction\n",
    "\n",
    "We know from historical precedent that energy systems can not be transformed instantaneously. Therefore, we use a family of dynamic constraints on activity and capacity. These constraints define the upper and lower limit of the domain of activity and capacity over time based on their value in the previous time step, an initial value, and growth/decline rates."
   ]
  },
  {
   "cell_type": "markdown",
   "metadata": {
    "slideshow": {
     "slide_type": "fragment"
    }
   },
   "source": [
    "$\\sum_{y^V \\leq y,m} \\text{ACT}_{n,t,y^V,y,m,h} \\leq$  \n",
    "$\\text{initial_activity_up}_{n,t,y,h}\n",
    "        \\cdot \\frac{ \\Big( 1 + growth\\_activity\\_up_{n,t,y,h} \\Big)^{|y|} - 1 }\n",
    "                   { growth\\_activity\\_up_{n,t,y,h} }+ \\Big( 1 + growth\\_activity\\_up_{n,t,y,h} \\Big)^{|y|} \\cdot \\Big( \\sum_{y^V \\leq y-1,m} ACT_{n,t,y^V,y-1,m,h} + \\sum_{m} historical\\_activity_{n,t,y-1,m,h}\\Big)$  "
   ]
  },
  {
   "cell_type": "markdown",
   "metadata": {
    "slideshow": {
     "slide_type": "slide"
    }
   },
   "source": [
    "This example limits the ability for technologies to **grow**. To do so, we need to provide `\"growth_activity_up\"` values for each technology that we want to model as being diffusion constrained. Here, we set this constraint at 10% per year."
   ]
  },
  {
   "cell_type": "code",
   "execution_count": 18,
   "metadata": {
    "slideshow": {
     "slide_type": "fragment"
    }
   },
   "outputs": [],
   "source": [
    "growth_technologies = [\n",
    "    \"coal_ppl\",\n",
    "    \"wind_ppl\",\n",
    "    \"pv_ppl\"\n",
    "]\n",
    "\n",
    "for tec in growth_technologies:\n",
    "    df = make_df(\n",
    "        \"growth_activity_up\",\n",
    "        node_loc=country,\n",
    "        year_act=model_horizon,\n",
    "        time=\"year\",\n",
    "        unit=\"-\",\n",
    "        technology=tec,\n",
    "        value=0.1,\n",
    "    )\n",
    "    scenario.add_par(\"growth_activity_up\", df)"
   ]
  },
  {
   "cell_type": "markdown",
   "metadata": {
    "slideshow": {
     "slide_type": "slide"
    }
   },
   "source": [
    "## Defining an Energy Mix (Model Calibration)\n",
    "\n",
    "To model the transition of an energy system, one must start with the existing system which is defined by the parameters `\"historical_activity\"` and `\"historical_new_capacity\"`. These parameters define the energy mix before the model horizon. \n",
    "\n",
    "Defining both parameters is essential to limit the capacity in the first model period. Without these, the model can (and will!) make a totally free (unconstrained) choice of what mix of technologies are used to meet demand in the first model period, perhaps choosing some ahistorical values. With these parameters defined, the MESSAGE formulation ensures a smooth transition from historical years to model periods.\n",
    "\n",
    "We begin by defining a few key values:\n",
    "\n",
    "- how much useful energy was needed\n",
    "- how much final energy was generated\n",
    "- and the mix for different technologies"
   ]
  },
  {
   "cell_type": "code",
   "execution_count": 19,
   "metadata": {
    "slideshow": {
     "slide_type": "fragment"
    }
   },
   "outputs": [],
   "source": [
    "historic_demand = 0.5 * demand_per_year\n",
    "historic_generation = historic_demand / grid_efficiency\n",
    "coal_fraction = 0.6"
   ]
  },
  {
   "cell_type": "markdown",
   "metadata": {
    "slideshow": {
     "slide_type": "slide"
    }
   },
   "source": [
    "Then, we can define the **activity** in the historic period."
   ]
  },
  {
   "cell_type": "code",
   "execution_count": 20,
   "metadata": {
    "slideshow": {
     "slide_type": "fragment"
    }
   },
   "outputs": [],
   "source": [
    "old_activity = {\n",
    "    \"coal_ppl\": coal_fraction * historic_generation, #\n",
    "    \"wind_ppl\": (1 - coal_fraction) * historic_generation, #\n",
    "    \"pv_ppl\": 0 * historic_generation,\n",
    "}\n",
    "\n",
    "for tec, val in old_activity.items():\n",
    "    df = make_df(\n",
    "        \"historical_activity\",\n",
    "        node_loc=country,\n",
    "        year_act=history,\n",
    "        mode=\"standard\",\n",
    "        time=\"year\",\n",
    "        unit=\"GWa\",\n",
    "        technology=tec,\n",
    "        value=val,\n",
    "    )\n",
    "    scenario.add_par(\"historical_activity\", df)"
   ]
  },
  {
   "cell_type": "markdown",
   "metadata": {},
   "source": [
    "And the **new capacity** in the historic period.\n",
    "\n",
    "Remember $$\\sum_{m} \\text{ACT}_{n,t,y^V,y,m,h}\n",
    "    \\leq \\text{duration_time}_{h} \\cdot \\text{capacity_factor}_{n,t,y^V,y,h} \\cdot \\text{CAP}_{n,t,y^V,y}\n",
    "    \\quad t \\ \\in \\ T^{INV}$$\n",
    "\n",
    "and \n",
    "\n",
    "$$ \\text{CAP}_{n,t,y^V,y} = \\text{CAP_NEW}_{n,t,y^V} \\cdot \\text{duration_period}_{y} $$\n",
    "\n",
    "Since we want to get the activity during the whole historic year 690 and not of a sub-annual time slice, e.g., only spring (`duration_time` = 0.25), the `duration_time` is 1.  \n",
    "\n",
    "To get the new capacity in the historic period, the capacity, which needs to get build **per year** to meet the demand in the year 690, we resolve to the following:\n",
    "\n",
    "$$\\text{CAP_NEW}_{n,t,y^V} = \\frac{\\sum_{m} \\text{ACT}_{n,t,y^V,y,m,h}}{\\text{duration_time}_{h} \\cdot \\text{duration_period}_{y}  \\cdot \\text{capacity_factor}_{n,t,y^V,y,h}} $$.\n",
    "\n",
    "The `duration_period` of the first period (historic period) is set to the value that appears most frequently. Here every period has 10 years, so the `duration_period` of the first period is likewise 10 years."
   ]
  },
  {
   "cell_type": "code",
   "execution_count": 21,
   "metadata": {
    "slideshow": {
     "slide_type": "fragment"
    }
   },
   "outputs": [],
   "source": [
    "for tec in old_activity:\n",
    "    value = old_activity[tec] / (1 * 10 * capacity_factor[tec])\n",
    "    df = make_df(\n",
    "        \"historical_new_capacity\",\n",
    "        node_loc=country,\n",
    "        year_vtg=history,\n",
    "        unit=\"GWa\",\n",
    "        technology=tec,\n",
    "        value=value,\n",
    "    )\n",
    "    scenario.add_par(\"historical_new_capacity\", df)"
   ]
  },
  {
   "cell_type": "markdown",
   "metadata": {
    "slideshow": {
     "slide_type": "slide"
    }
   },
   "source": [
    "## Objective Function\n",
    "\n",
    "The objective function drives the purpose of the optimization. Do we wish to seek maximum utility of the social planner, minimize carbon emissions, or something else? Classical IAMs seek to minimize total discounted system cost over space and time. \n",
    "\n",
    "$$\\min \\sum_{n,y \\in Y^{M}} \\text{interestrate}_{y} \\cdot \\text{COST_NODAL}_{n,y}$$\n"
   ]
  },
  {
   "cell_type": "markdown",
   "metadata": {
    "slideshow": {
     "slide_type": "fragment"
    }
   },
   "source": [
    "First, let's add the interest rate parameter."
   ]
  },
  {
   "cell_type": "code",
   "execution_count": 22,
   "metadata": {
    "slideshow": {
     "slide_type": "fragment"
    }
   },
   "outputs": [],
   "source": [
    "scenario.add_par(\"interestrate\", model_horizon, value=0.05, unit=\"-\")"
   ]
  },
  {
   "cell_type": "markdown",
   "metadata": {
    "slideshow": {
     "slide_type": "fragment"
    }
   },
   "source": [
    "`COST_NODAL` is comprised of a variety of costs related to the use of different technologies."
   ]
  },
  {
   "cell_type": "markdown",
   "metadata": {
    "slideshow": {
     "slide_type": "slide"
    }
   },
   "source": [
    "### Investment Costs\n",
    "\n",
    "Capital, or investment, costs are invoked whenever a new plant or unit is built\n",
    "\n",
    "$$\\text{inv_cost}_{n,t,y} \\cdot \\text{construction_time_factor}_{n,t,y} \\cdot \\text{CAP_NEW}_{n,t,y}$$\n",
    "\n",
    "Reference for PV-Power installation costs: https://www.solarreviews.com/blog/what-is-a-solar-farm-do-i-need-one"
   ]
  },
  {
   "cell_type": "code",
   "execution_count": 23,
   "metadata": {
    "slideshow": {
     "slide_type": "fragment"
    }
   },
   "outputs": [],
   "source": [
    "# Add a new unit for ixmp to recognize as valid\n",
    "mp.add_unit(\"USD/kW\")\n",
    "\n",
    "# in $ / kW (specific investment cost)\n",
    "costs = {\n",
    "    \"coal_ppl\": 500,\n",
    "    \"wind_ppl\": 1500,\n",
    "    \"pv_ppl\": 900,\n",
    "    \"bulb\": 5,\n",
    "}\n",
    "\n",
    "for tec, val in costs.items():\n",
    "    df = make_df(\n",
    "        \"inv_cost\",\n",
    "        node_loc=country,\n",
    "        year_vtg=model_horizon,\n",
    "        unit=\"USD/kW\",\n",
    "        technology=tec,\n",
    "        value=val,\n",
    "    )\n",
    "    scenario.add_par(\"inv_cost\", df)"
   ]
  },
  {
   "cell_type": "markdown",
   "metadata": {
    "slideshow": {
     "slide_type": "slide"
    }
   },
   "source": [
    "### Fixed O&M Costs\n",
    "\n",
    "Fixed cost are only relevant as long as the capacity is active. This formulation allows to include the potential cost savings from early retirement of installed capacity.\n",
    "\n",
    "$$\\sum_{y^V \\leq y} \\text{fix_cost}_{n,t,y^V,y} \\cdot \\text{CAP}_{n,t,y^V,y}$$\n",
    "\n",
    "Reference for PV O&M costs: https://atb.nrel.gov/electricity/2021/utility-scale_pv"
   ]
  },
  {
   "cell_type": "code",
   "execution_count": 24,
   "metadata": {
    "slideshow": {
     "slide_type": "fragment"
    }
   },
   "outputs": [],
   "source": [
    "# in $ / kW / year (every year a fixed quantity is destinated to cover part of the O&M costs\n",
    "# based on the size of the plant, e.g. lightning, labor, scheduled maintenance, etc.)\n",
    "\n",
    "costs = {\n",
    "    \"coal_ppl\": 30,\n",
    "    \"wind_ppl\": 10,\n",
    "    \"pv_ppl\": 23,\n",
    "}\n",
    "\n",
    "for tec, val in costs.items():\n",
    "    df = make_df(\n",
    "        \"fix_cost\",\n",
    "        node_loc=country,\n",
    "        year_vtg=vintage_years,\n",
    "        year_act=act_years,\n",
    "        unit=\"USD/kWa\",\n",
    "        technology=tec,\n",
    "        value=val,\n",
    "    )\n",
    "    scenario.add_par(\"fix_cost\", df)"
   ]
  },
  {
   "cell_type": "markdown",
   "metadata": {
    "slideshow": {
     "slide_type": "slide"
    }
   },
   "source": [
    "### Variable O&M Costs\n",
    "\n",
    "Variable Operation and Maintence costs are associated with the costs of actively running the plant. Thus, they are not applied if a plant is on standby (i.e., constructed, but not currently in use).\n",
    "\n",
    "$$\\sum_{\\substack{y^V \\leq y \\\\ m,h}} \\text{var_cost}_{n,t,y^V,y,m,h} \\cdot \\text{ACT}_{n,t,y^V,y,m,h} $$"
   ]
  },
  {
   "cell_type": "code",
   "execution_count": 25,
   "metadata": {
    "slideshow": {
     "slide_type": "fragment"
    }
   },
   "outputs": [],
   "source": [
    "# In $ / kWa (costs associated to the degradation of equipment\n",
    "# when the plant is functioning per unit of energy produced\n",
    "# kW·year = 8760 kWh. Therefore the costs represents USD per 8760 kWh\n",
    "# of energy). Do not confuse with fixed O&M units.\n",
    "\n",
    "costs = {\n",
    "    \"coal_ppl\": 50,\n",
    "    \"grid\": 50,\n",
    "}\n",
    "\n",
    "for tec, val in costs.items():\n",
    "    df = make_df(\n",
    "        \"var_cost\",\n",
    "        node_loc=country,\n",
    "        year_vtg=vintage_years,\n",
    "        year_act=act_years,\n",
    "        mode=\"standard\",\n",
    "        time=\"year\",\n",
    "        unit=\"USD/kWa\",\n",
    "        technology=tec,\n",
    "        value=val,\n",
    "    )\n",
    "    scenario.add_par(\"var_cost\", df)"
   ]
  },
  {
   "cell_type": "markdown",
   "metadata": {
    "slideshow": {
     "slide_type": "slide"
    }
   },
   "source": [
    "A full model will also have costs associated with\n",
    "\n",
    "- costs associated with technologies (investment, fixed, variable costs)\n",
    "- resource extraction: $\\sum_{c,g} \\ resource\\_cost_{n,c,g,y} \\cdot EXT_{n,c,g,y} $\n",
    "- emissions\n",
    "- land use (emulator): $\\sum_{s} land\\_cost_{n,s,y} \\cdot LAND_{n,s,y}$"
   ]
  },
  {
   "cell_type": "markdown",
   "metadata": {
    "slideshow": {
     "slide_type": "slide"
    }
   },
   "source": [
    "## Time to Solve the Model\n",
    "\n",
    "First, we *commit* the model structure and input data (sets and parameters).\n",
    "Because we created `scenario` with `version=\"new\"`, the `ixmp` storage back end automatically creates and assigns a new version number."
   ]
  },
  {
   "cell_type": "code",
   "execution_count": 26,
   "metadata": {
    "slideshow": {
     "slide_type": "fragment"
    }
   },
   "outputs": [],
   "source": [
    "from message_ix import log\n",
    "\n",
    "log.info(f\"version number before commit(): {scenario.version}\")\n",
    "\n",
    "scenario.commit(comment=\"basic model of Westeros electrification\")\n",
    "\n",
    "log.info(f\"version number after commit(): {scenario.version}\")"
   ]
  },
  {
   "cell_type": "markdown",
   "metadata": {
    "slideshow": {
     "slide_type": "fragment"
    }
   },
   "source": [
    "An `ixmp` database can contain many scenarios, and possibly multiple versions of the same model and scenario name.\n",
    "These are distinguished by unique version numbers.\n",
    "\n",
    "To make it easier to retrieve the \"correct\" version (e.g., the latest one), you can set a specific scenario as the default version to use if the \"Westeros Electrified\" model is loaded from the `ixmp` database."
   ]
  },
  {
   "cell_type": "code",
   "execution_count": 27,
   "metadata": {
    "slideshow": {
     "slide_type": "fragment"
    }
   },
   "outputs": [],
   "source": [
    "scenario.set_as_default()"
   ]
  },
  {
   "cell_type": "code",
   "execution_count": 28,
   "metadata": {
    "slideshow": {
     "slide_type": "fragment"
    }
   },
   "outputs": [
    {
     "name": "stdout",
     "output_type": "stream",
     "text": [
      "--- Warning: The GAMS version [39.2.0] differs from the API version [24.8.3].\n",
      "--- Job MESSAGE_run.gms Start 06/13/22 04:54:22 39.2.0 e0c5072f DEX-DEG x86 64bit/Mac OS X\n",
      "--- Applying:\n",
      "    /Library/Frameworks/GAMS.framework/Versions/39/Resources/gmsprmun.txt\n",
      "--- GAMS Parameters defined\n",
      "    Input /Users/juliusbergmann/opt/anaconda3/envs/Assignment3/lib/python3.9/site-packages/message_ix/model/MESSAGE_run.gms\n",
      "    ScrDir /Users/juliusbergmann/opt/anaconda3/envs/Assignment3/lib/python3.9/site-packages/message_ix/model/225a/\n",
      "    SysDir /Library/Frameworks/GAMS.framework/Versions/39/Resources/\n",
      "    LogOption 4\n",
      "    --in /Users/juliusbergmann/opt/anaconda3/envs/Assignment3/lib/python3.9/site-packages/message_ix/model/data/MsgData_Westeros_Electrified_baseline.gdx\n",
      "    --out /Users/juliusbergmann/opt/anaconda3/envs/Assignment3/lib/python3.9/site-packages/message_ix/model/output/MsgOutput_Westeros_Electrified_baseline.gdx\n",
      "    --iter /Users/juliusbergmann/opt/anaconda3/envs/Assignment3/lib/python3.9/site-packages/message_ix/model/output/MsgIterationReport_Westeros_Electrified_baseline.gdx\n",
      "Licensee: Course License                                 S220602|0002AO-GEN\n",
      "          TU Wien, Open-source energy system modelling              DCE2154\n",
      "          /Library/Frameworks/GAMS.framework/Versions/39/Resources/gamslice.txt\n",
      "          License Admin: Daniel Huppmann, huppmann@iiasa.ac.at             \n",
      "          Course license for use within the course and related course work\n",
      "Processor information: 1 socket(s), 2 core(s), and 4 thread(s) available\n",
      "GAMS 39.2.0   Copyright (C) 1987-2022 GAMS Development. All rights reserved\n",
      "--- Starting compilation\n",
      "--- MESSAGE_run.gms(65) 2 Mb\n",
      "--- . model_setup.gms(66) 2 Mb\n",
      "--- .. auxiliary_settings.gms(37) 2 Mb\n",
      "--- . model_setup.gms(69) 2 Mb\n",
      "--- .. version.gms(23) 2 Mb\n",
      "--- . model_setup.gms(70) 2 Mb\n",
      "--- .. version_check.gms(7) 2 Mb\n",
      "--- GDXin=/Users/juliusbergmann/opt/anaconda3/envs/Assignment3/lib/python3.9/site-packages/message_ix/model/data/MsgData_Westeros_Electrified_baseline.gdx\n",
      "--- GDX File ($gdxIn) /Users/juliusbergmann/opt/anaconda3/envs/Assignment3/lib/python3.9/site-packages/message_ix/model/data/MsgData_Westeros_Electrified_baseline.gdx\n",
      "--- .. version_check.gms(24) 3 Mb\n",
      "--- . model_setup.gms(73) 3 Mb\n",
      "--- .. sets_maps_def.gms(488) 3 Mb\n",
      "--- . model_setup.gms(74) 3 Mb\n",
      "--- .. parameter_def.gms(876) 3 Mb\n",
      "--- . model_setup.gms(77) 3 Mb\n",
      "--- .. data_load.gms(9) 3 Mb\n",
      "--- GDXin=/Users/juliusbergmann/opt/anaconda3/envs/Assignment3/lib/python3.9/site-packages/message_ix/model/data/MsgData_Westeros_Electrified_baseline.gdx\n",
      "--- GDX File ($gdxIn) /Users/juliusbergmann/opt/anaconda3/envs/Assignment3/lib/python3.9/site-packages/message_ix/model/data/MsgData_Westeros_Electrified_baseline.gdx\n",
      "--- .. data_load.gms(105) 3 Mb\n",
      "--- ... period_parameter_assignment.gms(118) 3 Mb\n",
      "--- .. data_load.gms(243) 3 Mb\n",
      "--- . model_setup.gms(80) 3 Mb\n",
      "--- .. scaling_investment_costs.gms(180) 3 Mb\n",
      "--- . model_setup.gms(86) 3 Mb\n",
      "--- .. model_core.gms(2277) 3 Mb\n",
      "--- . model_setup.gms(86) 3 Mb\n",
      "--- MESSAGE_run.gms(71) 3 Mb\n",
      "--- . model_solve.gms(104) 3 Mb\n",
      "--- .. aux_computation_time.gms(14) 3 Mb\n",
      "--- . model_solve.gms(170) 3 Mb\n",
      "--- MESSAGE_run.gms(78) 3 Mb\n",
      "--- . reporting.gms(26) 3 Mb\n",
      "--- MESSAGE_run.gms(87) 3 Mb\n",
      "--- Starting execution: elapsed 0:00:00.048\n",
      "--- MESSAGE_run.gms(1596) 4 Mb\n",
      "    +++ Importing data from '/Users/juliusbergmann/opt/anaconda3/envs/Assignment3/lib/python3.9/site-packages/message_ix/model/data/MsgData_Westeros_Electrified_baseline.gdx'... +++\n",
      "--- MESSAGE_run.gms(1615) 4 Mb\n",
      "--- GDXin=/Users/juliusbergmann/opt/anaconda3/envs/Assignment3/lib/python3.9/site-packages/message_ix/model/data/MsgData_Westeros_Electrified_baseline.gdx\n",
      "--- GDX File (execute_load) /Users/juliusbergmann/opt/anaconda3/envs/Assignment3/lib/python3.9/site-packages/message_ix/model/data/MsgData_Westeros_Electrified_baseline.gdx\n",
      "--- MESSAGE_run.gms(4432) 4 Mb\n",
      "    +++ Solve the perfect-foresight version of MESSAGEix +++\n",
      "--- Generating LP model MESSAGE_LP\n",
      "--- MESSAGE_run.gms(4450) 4 Mb\n",
      "---   82 rows  64 columns  217 non-zeroes\n",
      "--- Range statistics (absolute non-zero finite values)\n",
      "--- RHS       [min, max] : [ 1.522E+01, 1.040E+02] - Zero values observed as well\n",
      "--- Bound     [min, max] : [        NA,        NA] - Zero values observed as well\n",
      "--- Matrix    [min, max] : [ 2.000E-01, 1.500E+03]\n",
      "--- Executing CPLEX (Solvelink=2): elapsed 0:00:00.075\n",
      "\n",
      "IBM ILOG CPLEX   39.2.0 e0c5072f Jun 2, 2022           DEG x86 64bit/Mac OS X \n",
      "\n",
      "--- GAMS/Cplex Link licensed for continuous and discrete problems.\n",
      "\n",
      "Reading parameter(s) from \"/Users/juliusbergmann/opt/anaconda3/envs/Assignment3/lib/python3.9/site-packages/message_ix/model/cplex.opt\"\n",
      ">>  advind = 0\n",
      ">>  lpmethod = 2\n",
      ">>  threads = 4\n",
      ">>  epopt = 1e-06\n",
      "Finished reading from \"/Users/juliusbergmann/opt/anaconda3/envs/Assignment3/lib/python3.9/site-packages/message_ix/model/cplex.opt\"\n",
      "\n",
      "--- GMO setup time: 0.00s\n",
      "--- GMO memory 0.52 Mb (peak 0.52 Mb)\n",
      "--- Dictionary memory 0.00 Mb\n",
      "--- Cplex 22.1.0.0 link memory 0.00 Mb (peak 0.01 Mb)\n",
      "--- Starting Cplex\n",
      "\n",
      "Version identifier: 22.1.0.0 | 2022-03-09 | 1a383f8ce\n",
      "CPXPARAM_Advance                                 0\n",
      "CPXPARAM_LPMethod                                2\n",
      "CPXPARAM_Threads                                 4\n",
      "CPXPARAM_Parallel                                1\n",
      "CPXPARAM_MIP_Display                             4\n",
      "CPXPARAM_MIP_Pool_Capacity                       0\n",
      "CPXPARAM_Simplex_Limits_Iterations               100000000\n",
      "CPXPARAM_TimeLimit                               1000000\n",
      "CPXPARAM_MIP_Tolerances_AbsMIPGap                0\n",
      "CPXPARAM_MIP_Tolerances_MIPGap                   0\n",
      "Tried aggregator 1 time.\n",
      "LP Presolve eliminated 48 rows and 31 columns.\n",
      "Aggregator did 9 substitutions.\n",
      "Reduced LP has 24 rows, 24 columns, and 72 nonzeros.\n",
      "Presolve time = 0.00 sec. (0.06 ticks)\n",
      "\n",
      "Iteration log . . .\n",
      "Iteration:     1   Dual objective     =         72629.227488\n",
      "\n",
      "--- LP status (1): optimal.\n",
      "--- Cplex Time: 0.01sec (det. 0.13 ticks)\n",
      "\n",
      "\n",
      "Optimal solution found\n",
      "Objective:       204927.909497\n",
      "\n",
      "--- Reading solution for model MESSAGE_LP\n",
      "--- Executing after solve: elapsed 0:00:00.226\n",
      "--- MESSAGE_run.gms(4643) 4 Mb\n",
      "--- GDX File (execute_unload) /Users/juliusbergmann/opt/anaconda3/envs/Assignment3/lib/python3.9/site-packages/message_ix/model/output/MsgOutput_Westeros_Electrified_baseline.gdx\n",
      "--- MESSAGE_run.gms(4645) 4 Mb\n",
      "    +++ End of MESSAGEix (stand-alone) run - have a nice day! +++\n",
      "*** Status: Normal completion\n",
      "--- Job MESSAGE_run.gms Stop 06/13/22 04:54:22 elapsed 0:00:00.229\n",
      "--- Warning: The GAMS version [39.2.0] differs from the API version [24.8.3].\n",
      "--- Warning: The GAMS version [39.2.0] differs from the API version [24.8.3].\n"
     ]
    },
    {
     "name": "stderr",
     "output_type": "stream",
     "text": [
      "2022-06-13 04:54:22,698 ERROR at.ac.iiasa.ixmp.objects.Scenario:1691 - variable 'I' not found in gdx!\n",
      "2022-06-13 04:54:22,699 ERROR at.ac.iiasa.ixmp.objects.Scenario:1691 - variable 'C' not found in gdx!\n"
     ]
    }
   ],
   "source": [
    "scenario.solve()"
   ]
  },
  {
   "cell_type": "code",
   "execution_count": 29,
   "metadata": {
    "jupyter": {
     "name": "solve-objective-value"
    },
    "slideshow": {
     "slide_type": "fragment"
    }
   },
   "outputs": [
    {
     "data": {
      "text/plain": [
       "204927.90625"
      ]
     },
     "execution_count": 29,
     "metadata": {},
     "output_type": "execute_result"
    }
   ],
   "source": [
    "scenario.var(\"OBJ\")[\"lvl\"]"
   ]
  },
  {
   "cell_type": "markdown",
   "metadata": {
    "slideshow": {
     "slide_type": "slide"
    }
   },
   "source": [
    "## Plotting Results\n",
    "\n",
    "Analyzing the results of a scenario after it is solved is called **reporting**.\n",
    "MESSAGE*ix* includes flexible and customizable message_ix/tutorial for reporting, but here we wish to focus on the results of our example scenario.\n",
    "We use some custom code to set up some simple plots:"
   ]
  },
  {
   "cell_type": "code",
   "execution_count": 30,
   "metadata": {
    "slideshow": {
     "slide_type": "fragment"
    }
   },
   "outputs": [],
   "source": [
    "# Create a Reporter object to describe and carry out reporting\n",
    "# calculations and operations (like plotting) based on `scenario`\n",
    "from message_ix.reporting import Reporter\n",
    "\n",
    "rep = Reporter.from_scenario(scenario)\n",
    "\n",
    "# Add keys like \"plot activity\" to describe reporting operations.\n",
    "# See tutorial/utils/plotting.py\n",
    "from message_ix.util.tutorial import prepare_plots\n",
    "\n",
    "prepare_plots(rep)"
   ]
  },
  {
   "cell_type": "markdown",
   "metadata": {
    "slideshow": {
     "slide_type": "slide"
    }
   },
   "source": [
    "Now the object `rep` is ready to generate several plots.\n",
    "\n",
    "(For a detailed introduction to how the `Reporter` works, see `westeros_report.ipynb`.)\n",
    "\n",
    "### Activity\n",
    "\n",
    "How much energy is generated in each time period from the different potential sources?"
   ]
  },
  {
   "cell_type": "code",
   "execution_count": 31,
   "metadata": {
    "slideshow": {
     "slide_type": "fragment"
    }
   },
   "outputs": [
    {
     "data": {
      "text/plain": [
       "<AxesSubplot:title={'center':'Westeros Energy System Activity'}, xlabel='Year', ylabel='GWa'>"
      ]
     },
     "execution_count": 31,
     "metadata": {},
     "output_type": "execute_result"
    },
    {
     "data": {
      "image/png": "[encoded data removed]",
      "text/plain": [
       "<Figure size 432x288 with 1 Axes>"
      ]
     },
     "metadata": {
      "needs_background": "light"
     },
     "output_type": "display_data"
    }
   ],
   "source": [
    "# Only show a subset of technologies in the follow plots;\n",
    "# e.g. exclude \"bulb\" and \"grid\"\n",
    "rep.set_filters(t=[\"coal_ppl\", \"wind_ppl\", \"pv_ppl\"])\n",
    "\n",
    "# Trigger the calculation and plotting\n",
    "rep.get(\"plot activity\")"
   ]
  },
  {
   "cell_type": "markdown",
   "metadata": {
    "slideshow": {
     "slide_type": "slide"
    }
   },
   "source": [
    "### Capacity\n",
    "\n",
    "How much capacity of each plant is installed in each period?"
   ]
  },
  {
   "cell_type": "code",
   "execution_count": 32,
   "metadata": {
    "slideshow": {
     "slide_type": "fragment"
    }
   },
   "outputs": [
    {
     "data": {
      "text/plain": [
       "<AxesSubplot:title={'center':'Westeros Energy System Capacity'}, xlabel='Year', ylabel='GW'>"
      ]
     },
     "execution_count": 32,
     "metadata": {},
     "output_type": "execute_result"
    },
    {
     "data": {
      "image/png": "[encoded data removed]",
      "text/plain": [
       "<Figure size 432x288 with 1 Axes>"
      ]
     },
     "metadata": {
      "needs_background": "light"
     },
     "output_type": "display_data"
    }
   ],
   "source": [
    "# Create a different plot. The same filters are still active.\n",
    "rep.get(\"plot capacity\")"
   ]
  },
  {
   "cell_type": "markdown",
   "metadata": {},
   "source": [
    "### New capacity\n",
    "\n",
    "How much new capacity is installed in each period? Notice that the new installed capacity requires additional investments."
   ]
  },
  {
   "cell_type": "code",
   "execution_count": 33,
   "metadata": {},
   "outputs": [
    {
     "data": {
      "text/plain": [
       "<AxesSubplot:title={'center':'Westeros Energy System New Capacity'}, xlabel='Year', ylabel='GWa'>"
      ]
     },
     "execution_count": 33,
     "metadata": {},
     "output_type": "execute_result"
    },
    {
     "data": {
      "image/png": "[encoded data removed]",
      "text/plain": [
       "<Figure size 432x288 with 1 Axes>"
      ]
     },
     "metadata": {
      "needs_background": "light"
     },
     "output_type": "display_data"
    }
   ],
   "source": [
    "# Create another plot. The same filters are still active.\n",
    "rep.get(\"plot new capacity\")"
   ]
  },
  {
   "cell_type": "markdown",
   "metadata": {
    "slideshow": {
     "slide_type": "slide"
    }
   },
   "source": [
    "### Electricity Price\n",
    "\n",
    "And how much does the electricity cost? These prices are in fact **shadow prices** taken from the **dual variables** of the model solution.\n",
    "They reflect the marginal cost of electricity generation (i.e., the additional cost of the system for supplying one more unit of\n",
    "electricity), which is in fact the marginal cost of the most expensive operating generator.  \n",
    "\n",
    "Note the price drop when the more expensive technology, i.e., wind, is no longer being invested in the system."
   ]
  },
  {
   "cell_type": "code",
   "execution_count": 34,
   "metadata": {
    "slideshow": {
     "slide_type": "fragment"
    }
   },
   "outputs": [
    {
     "data": {
      "text/plain": [
       "<AxesSubplot:title={'center':'Westeros Energy System Prices'}, xlabel='Year', ylabel='¢/kW·h'>"
      ]
     },
     "execution_count": 34,
     "metadata": {},
     "output_type": "execute_result"
    },
    {
     "data": {
      "image/png": "[encoded data removed]",
      "text/plain": [
       "<Figure size 432x288 with 1 Axes>"
      ]
     },
     "metadata": {
      "needs_background": "light"
     },
     "output_type": "display_data"
    }
   ],
   "source": [
    "# Replace the technology filters with a commodity filter;\n",
    "# show only \"light\" and not e.g. \"electricity\".\n",
    "rep.set_filters(c=[\"light\"])\n",
    "\n",
    "# Create a price plot\n",
    "rep.get(\"plot prices\")"
   ]
  },
  {
   "cell_type": "markdown",
   "metadata": {},
   "source": [
    "## Close the connection to the database\n",
    "\n",
    "When working with local HSQLDB database instances, you cannot connect to one database from multipe Jupyter notebooks (or processes) at the same time.\n",
    "\n",
    "If you want to easily switch between notebooks with connections to the same `ixmp` database, you need to close the connection in one notebook before initializing the platform using `ixmp.Platform()` in another notebook.\n",
    "\n",
    "After having closed the database connection, you can reopen it using\n",
    "```\n",
    "mp.open_db()\n",
    "```"
   ]
  },
  {
   "cell_type": "code",
   "execution_count": 35,
   "metadata": {
    "slideshow": {
     "slide_type": "skip"
    }
   },
   "outputs": [],
   "source": [
    "mp.close_db()"
   ]
  },
  {
   "cell_type": "markdown",
   "metadata": {
    "slideshow": {
     "slide_type": "slide"
    }
   },
   "source": [
    "## Congratulations! \n",
    "\n",
    "You have built and run your very first MESSAGE*ix* model. Welcome to the community!\n",
    "\n",
    "The next tutorials will introduce you to other features of the framework, including energy system constraints, emissions taxes, and other policy options.\n",
    "\n",
    "Check us out on Github at https://github.com/iiasa/message_ix and share your progress and questions in the [discussion forums](https://github.com/iiasa/message_ix/discussions)."
   ]
  }
 ],
 "metadata": {
  "anaconda-cloud": {},
  "kernelspec": {
   "display_name": "Python 3 (ipykernel)",
   "language": "python",
   "name": "python3"
  },
  "language_info": {
   "codemirror_mode": {
    "name": "ipython",
    "version": 3
   },
   "file_extension": ".py",
   "mimetype": "text/x-python",
   "name": "python",
   "nbconvert_exporter": "python",
   "pygments_lexer": "ipython3",
   "version": "3.9.13"
  }
 },
 "nbformat": 4,
 "nbformat_minor": 2
}
