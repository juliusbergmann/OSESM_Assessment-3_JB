{
 "cells": [
  {
   "cell_type": "markdown",
   "metadata": {},
   "source": [
    "# Westeros Tutorial - Introducing emissions (part1/2): Adding emission bounds\n",
    "\n",
    "In the first part, the model chose not base the power system on wind power as electricity from  wind turbines was more expensive than electricity produced from coal. However, now we introduce emissions to investigate the impact of climate policy. Let's see what happens then.\n",
    "\n",
    "**Pre-requisites**\n",
    "- You have the *MESSAGEix* framework installed and working\n",
    "- You have run Westeros baseline scenario (``westeros_baseline.ipynb``) and solved it successfully"
   ]
  },
  {
   "cell_type": "code",
   "execution_count": 1,
   "metadata": {},
   "outputs": [
    {
     "data": {
      "application/javascript": [
       "if (typeof IPython !== 'undefined') { IPython.OutputArea.prototype._should_scroll = function(lines){ return false; }}"
      ],
      "text/plain": [
       "<IPython.core.display.Javascript object>"
      ]
     },
     "metadata": {},
     "output_type": "display_data"
    }
   ],
   "source": [
    "import pandas as pd\n",
    "import ixmp\n",
    "import message_ix\n",
    "\n",
    "from message_ix.util import make_df\n",
    "\n",
    "%matplotlib inline"
   ]
  },
  {
   "cell_type": "code",
   "execution_count": 2,
   "metadata": {},
   "outputs": [
    {
     "name": "stdout",
     "output_type": "stream",
     "text": [
      "2022-06-13 05:31:59,853  INFO at.ac.iiasa.ixmp.Platform:165 - Welcome to the IX modeling platform!\n",
      "2022-06-13 05:31:59,857  INFO at.ac.iiasa.ixmp.Platform:166 -  connected to database 'jdbc:hsqldb:file:/Users/juliusbergmann/.local/share/ixmp/localdb/default' (user: ixmp)...\n"
     ]
    }
   ],
   "source": [
    "mp = ixmp.Platform()"
   ]
  },
  {
   "cell_type": "markdown",
   "metadata": {},
   "source": [
    "## Making a clone of the existing scenario 'baseline'"
   ]
  },
  {
   "cell_type": "code",
   "execution_count": 3,
   "metadata": {},
   "outputs": [],
   "source": [
    "model = \"Westeros Electrified\"\n",
    "\n",
    "base = message_ix.Scenario(mp, model=model, scenario=\"baseline\")\n",
    "scen = base.clone(\n",
    "    model,\n",
    "    \"emission_bound\",\n",
    "    \"introducing an upper bound on emissions\",\n",
    "    keep_solution=False,\n",
    ")\n",
    "scen.check_out()"
   ]
  },
  {
   "cell_type": "code",
   "execution_count": 4,
   "metadata": {},
   "outputs": [],
   "source": [
    "year_df = scen.vintage_and_active_years()\n",
    "vintage_years, act_years = year_df[\"year_vtg\"], year_df[\"year_act\"]\n",
    "model_horizon = scen.set(\"year\")\n",
    "country = \"Westeros\""
   ]
  },
  {
   "cell_type": "markdown",
   "metadata": {},
   "source": [
    "## Introducing Emissions"
   ]
  },
  {
   "cell_type": "code",
   "execution_count": 5,
   "metadata": {},
   "outputs": [],
   "source": [
    "# First we introduce the emission of CO2 and the emission category GHG\n",
    "scen.add_set(\"emission\", \"CO2\")\n",
    "scen.add_cat(\"emission\", \"GHG\", \"CO2\")\n",
    "\n",
    "# Then we add new units to the model library (needed only once)\n",
    "mp.add_unit(\"tCO2/kWa\")\n",
    "mp.add_unit(\"MtCO2\")\n",
    "\n",
    "# Last we add CO2 emissions to the coal powerplant\n",
    "emission_factor = make_df(\n",
    "    \"emission_factor\",\n",
    "    node_loc=country,\n",
    "    year_vtg=vintage_years,\n",
    "    year_act=act_years,\n",
    "    mode=\"standard\",\n",
    "    unit=\"tCO2/kWa\",\n",
    "    technology=\"coal_ppl\",\n",
    "    emission=\"CO2\",\n",
    "    value=7.4,\n",
    ")\n",
    "scen.add_par(\"emission_factor\", emission_factor)"
   ]
  },
  {
   "cell_type": "markdown",
   "metadata": {},
   "source": [
    "## Define a Bound on Emissions\n",
    "\n",
    "The `\"type_year\": \"cumulative\"` assigns an upper bound on the *weighted average of emissions* over the entire time horizon."
   ]
  },
  {
   "cell_type": "code",
   "execution_count": 30,
   "metadata": {},
   "outputs": [],
   "source": [
    "#scen.remove_solution()\n",
    "scen.check_out()"
   ]
  },
  {
   "cell_type": "code",
   "execution_count": 31,
   "metadata": {
    "scrolled": true
   },
   "outputs": [],
   "source": [
    "scen.add_par(\n",
    "    \"bound_emission\", [country, \"GHG\", \"all\", \"cumulative\"], value=100.0, unit=\"MtCO2\"\n",
    ")"
   ]
  },
  {
   "cell_type": "markdown",
   "metadata": {},
   "source": [
    "## Time to Solve the Model"
   ]
  },
  {
   "cell_type": "code",
   "execution_count": 32,
   "metadata": {},
   "outputs": [],
   "source": [
    "scen.commit(comment=\"Introducing emissions and setting an upper bound\")\n",
    "scen.set_as_default()"
   ]
  },
  {
   "cell_type": "code",
   "execution_count": 33,
   "metadata": {},
   "outputs": [
    {
     "name": "stdout",
     "output_type": "stream",
     "text": [
      "--- Warning: The GAMS version [39.2.0] differs from the API version [24.8.3].\n",
      "--- Job MESSAGE_run.gms Start 06/13/22 05:54:01 39.2.0 e0c5072f DEX-DEG x86 64bit/Mac OS X\n",
      "--- Applying:\n",
      "    /Library/Frameworks/GAMS.framework/Versions/39/Resources/gmsprmun.txt\n",
      "--- GAMS Parameters defined\n",
      "    Input /Users/juliusbergmann/opt/anaconda3/envs/Assignment3/lib/python3.9/site-packages/message_ix/model/MESSAGE_run.gms\n",
      "    ScrDir /Users/juliusbergmann/opt/anaconda3/envs/Assignment3/lib/python3.9/site-packages/message_ix/model/225a/\n",
      "    SysDir /Library/Frameworks/GAMS.framework/Versions/39/Resources/\n",
      "    LogOption 4\n",
      "    --in /Users/juliusbergmann/opt/anaconda3/envs/Assignment3/lib/python3.9/site-packages/message_ix/model/data/MsgData_Westeros_Electrified_emission_bound.gdx\n",
      "    --out /Users/juliusbergmann/opt/anaconda3/envs/Assignment3/lib/python3.9/site-packages/message_ix/model/output/MsgOutput_Westeros_Electrified_emission_bound.gdx\n",
      "    --iter /Users/juliusbergmann/opt/anaconda3/envs/Assignment3/lib/python3.9/site-packages/message_ix/model/output/MsgIterationReport_Westeros_Electrified_emission_bound.gdx\n",
      "Licensee: Course License                                 S220602|0002AO-GEN\n",
      "          TU Wien, Open-source energy system modelling              DCE2154\n",
      "          /Library/Frameworks/GAMS.framework/Versions/39/Resources/gamslice.txt\n",
      "          License Admin: Daniel Huppmann, huppmann@iiasa.ac.at             \n",
      "          Course license for use within the course and related course work\n",
      "Processor information: 1 socket(s), 2 core(s), and 4 thread(s) available\n",
      "GAMS 39.2.0   Copyright (C) 1987-2022 GAMS Development. All rights reserved\n",
      "--- Starting compilation\n",
      "--- MESSAGE_run.gms(65) 2 Mb\n",
      "--- . model_setup.gms(66) 2 Mb\n",
      "--- .. auxiliary_settings.gms(37) 2 Mb\n",
      "--- . model_setup.gms(69) 2 Mb\n",
      "--- .. version.gms(23) 2 Mb\n",
      "--- . model_setup.gms(70) 2 Mb\n",
      "--- .. version_check.gms(7) 2 Mb\n",
      "--- GDXin=/Users/juliusbergmann/opt/anaconda3/envs/Assignment3/lib/python3.9/site-packages/message_ix/model/data/MsgData_Westeros_Electrified_emission_bound.gdx\n",
      "--- GDX File ($gdxIn) /Users/juliusbergmann/opt/anaconda3/envs/Assignment3/lib/python3.9/site-packages/message_ix/model/data/MsgData_Westeros_Electrified_emission_bound.gdx\n",
      "--- .. version_check.gms(24) 3 Mb\n",
      "--- . model_setup.gms(73) 3 Mb\n",
      "--- .. sets_maps_def.gms(488) 3 Mb\n",
      "--- . model_setup.gms(74) 3 Mb\n",
      "--- .. parameter_def.gms(876) 3 Mb\n",
      "--- . model_setup.gms(77) 3 Mb\n",
      "--- .. data_load.gms(9) 3 Mb\n",
      "--- GDXin=/Users/juliusbergmann/opt/anaconda3/envs/Assignment3/lib/python3.9/site-packages/message_ix/model/data/MsgData_Westeros_Electrified_emission_bound.gdx\n",
      "--- GDX File ($gdxIn) /Users/juliusbergmann/opt/anaconda3/envs/Assignment3/lib/python3.9/site-packages/message_ix/model/data/MsgData_Westeros_Electrified_emission_bound.gdx\n",
      "--- .. data_load.gms(105) 3 Mb\n",
      "--- ... period_parameter_assignment.gms(118) 3 Mb\n",
      "--- .. data_load.gms(243) 3 Mb\n",
      "--- . model_setup.gms(80) 3 Mb\n",
      "--- .. scaling_investment_costs.gms(180) 3 Mb\n",
      "--- . model_setup.gms(86) 3 Mb\n",
      "--- .. model_core.gms(2277) 3 Mb\n",
      "--- . model_setup.gms(86) 3 Mb\n",
      "--- MESSAGE_run.gms(71) 3 Mb\n",
      "--- . model_solve.gms(104) 3 Mb\n",
      "--- .. aux_computation_time.gms(14) 3 Mb\n",
      "--- . model_solve.gms(170) 3 Mb\n",
      "--- MESSAGE_run.gms(78) 3 Mb\n",
      "--- . reporting.gms(26) 3 Mb\n",
      "--- MESSAGE_run.gms(87) 3 Mb\n",
      "--- Starting execution: elapsed 0:00:00.081\n",
      "--- MESSAGE_run.gms(1596) 4 Mb\n",
      "    +++ Importing data from '/Users/juliusbergmann/opt/anaconda3/envs/Assignment3/lib/python3.9/site-packages/message_ix/model/data/MsgData_Westeros_Electrified_emission_bound.gdx'... +++\n",
      "--- MESSAGE_run.gms(1615) 4 Mb\n",
      "--- GDXin=/Users/juliusbergmann/opt/anaconda3/envs/Assignment3/lib/python3.9/site-packages/message_ix/model/data/MsgData_Westeros_Electrified_emission_bound.gdx\n",
      "--- GDX File (execute_load) /Users/juliusbergmann/opt/anaconda3/envs/Assignment3/lib/python3.9/site-packages/message_ix/model/data/MsgData_Westeros_Electrified_emission_bound.gdx\n",
      "--- MESSAGE_run.gms(4432) 4 Mb\n",
      "    +++ Solve the perfect-foresight version of MESSAGEix +++\n",
      "--- Generating LP model MESSAGE_LP\n",
      "--- MESSAGE_run.gms(4450) 4 Mb\n",
      "---   87 rows  68 columns  230 non-zeroes\n",
      "--- Range statistics (absolute non-zero finite values)\n",
      "--- RHS       [min, max] : [ 1.826E+01, 1.040E+02] - Zero values observed as well\n",
      "--- Bound     [min, max] : [        NA,        NA] - Zero values observed as well\n",
      "--- Matrix    [min, max] : [ 2.000E-01, 1.500E+03]\n",
      "--- Executing CPLEX (Solvelink=2): elapsed 0:00:00.100\n",
      "\n",
      "IBM ILOG CPLEX   39.2.0 e0c5072f Jun 2, 2022           DEG x86 64bit/Mac OS X \n",
      "\n",
      "--- GAMS/Cplex Link licensed for continuous and discrete problems.\n",
      "\n",
      "Reading parameter(s) from \"/Users/juliusbergmann/opt/anaconda3/envs/Assignment3/lib/python3.9/site-packages/message_ix/model/cplex.opt\"\n",
      ">>  advind = 0\n",
      ">>  lpmethod = 2\n",
      ">>  threads = 4\n",
      ">>  epopt = 1e-06\n",
      "Finished reading from \"/Users/juliusbergmann/opt/anaconda3/envs/Assignment3/lib/python3.9/site-packages/message_ix/model/cplex.opt\"\n",
      "\n",
      "--- GMO setup time: 0.00s\n",
      "--- GMO memory 0.52 Mb (peak 0.52 Mb)\n",
      "--- Dictionary memory 0.00 Mb\n",
      "--- Cplex 22.1.0.0 link memory 0.00 Mb (peak 0.01 Mb)\n",
      "--- Starting Cplex\n",
      "\n",
      "Version identifier: 22.1.0.0 | 2022-03-09 | 1a383f8ce\n",
      "CPXPARAM_Advance                                 0\n",
      "CPXPARAM_LPMethod                                2\n",
      "CPXPARAM_Threads                                 4\n",
      "CPXPARAM_Parallel                                1\n",
      "CPXPARAM_MIP_Display                             4\n",
      "CPXPARAM_MIP_Pool_Capacity                       0\n",
      "CPXPARAM_Simplex_Limits_Iterations               100000000\n",
      "CPXPARAM_TimeLimit                               1000000\n",
      "CPXPARAM_MIP_Tolerances_AbsMIPGap                0\n",
      "CPXPARAM_MIP_Tolerances_MIPGap                   0\n",
      "Tried aggregator 1 time.\n",
      "LP Presolve eliminated 59 rows and 43 columns.\n",
      "Aggregator did 9 substitutions.\n",
      "Reduced LP has 18 rows, 16 columns, and 54 nonzeros.\n",
      "Presolve time = 0.00 sec. (0.06 ticks)\n",
      "\n",
      "Iteration log . . .\n",
      "Iteration:     1   Dual objective     =         76926.323609\n",
      "\n",
      "--- LP status (1): optimal.\n",
      "--- Cplex Time: 0.00sec (det. 0.13 ticks)\n",
      "\n",
      "\n",
      "Optimal solution found\n",
      "Objective:       338047.002488\n",
      "\n",
      "--- Reading solution for model MESSAGE_LP\n",
      "--- Executing after solve: elapsed 0:00:00.168\n",
      "--- MESSAGE_run.gms(4643) 4 Mb\n",
      "--- GDX File (execute_unload) /Users/juliusbergmann/opt/anaconda3/envs/Assignment3/lib/python3.9/site-packages/message_ix/model/output/MsgOutput_Westeros_Electrified_emission_bound.gdx\n",
      "--- MESSAGE_run.gms(4645) 4 Mb\n",
      "    +++ End of MESSAGEix (stand-alone) run - have a nice day! +++\n",
      "*** Status: Normal completion\n",
      "--- Job MESSAGE_run.gms Stop 06/13/22 05:54:01 elapsed 0:00:00.173\n",
      "--- Warning: The GAMS version [39.2.0] differs from the API version [24.8.3].\n",
      "--- Warning: The GAMS version [39.2.0] differs from the API version [24.8.3].\n"
     ]
    },
    {
     "name": "stderr",
     "output_type": "stream",
     "text": [
      "2022-06-13 05:54:01,780 ERROR at.ac.iiasa.ixmp.objects.Scenario:1691 - variable 'I' not found in gdx!\n",
      "2022-06-13 05:54:01,780 ERROR at.ac.iiasa.ixmp.objects.Scenario:1691 - variable 'C' not found in gdx!\n"
     ]
    }
   ],
   "source": [
    "scen.solve()"
   ]
  },
  {
   "cell_type": "code",
   "execution_count": 34,
   "metadata": {},
   "outputs": [
    {
     "data": {
      "text/plain": [
       "338047.0"
      ]
     },
     "execution_count": 34,
     "metadata": {},
     "output_type": "execute_result"
    }
   ],
   "source": [
    "scen.var(\"OBJ\")[\"lvl\"]"
   ]
  },
  {
   "cell_type": "markdown",
   "metadata": {},
   "source": [
    "## Plotting Results"
   ]
  },
  {
   "cell_type": "code",
   "execution_count": 35,
   "metadata": {},
   "outputs": [],
   "source": [
    "from message_ix.reporting import Reporter\n",
    "from message_ix.util.tutorial import prepare_plots\n",
    "\n",
    "rep = Reporter.from_scenario(scen)\n",
    "prepare_plots(rep)"
   ]
  },
  {
   "cell_type": "markdown",
   "metadata": {},
   "source": [
    "### Activity\n",
    "\n",
    "How much energy is generated in each time period from the different potential sources?"
   ]
  },
  {
   "cell_type": "code",
   "execution_count": 36,
   "metadata": {},
   "outputs": [
    {
     "data": {
      "text/plain": [
       "<AxesSubplot:title={'center':'Westeros Energy System Activity'}, xlabel='Year', ylabel='GWa'>"
      ]
     },
     "execution_count": 36,
     "metadata": {},
     "output_type": "execute_result"
    },
    {
     "data": {
      "image/png": "[encoded data removed]",
      "text/plain": [
       "<Figure size 432x288 with 1 Axes>"
      ]
     },
     "metadata": {
      "needs_background": "light"
     },
     "output_type": "display_data"
    }
   ],
   "source": [
    "rep.set_filters(t=[\"coal_ppl\", \"wind_ppl\", \"pv_ppl\"])\n",
    "rep.get(\"plot activity\")"
   ]
  },
  {
   "cell_type": "markdown",
   "metadata": {},
   "source": [
    "### Capacity\n",
    "\n",
    "How much capacity of each plant is installed in each period?"
   ]
  },
  {
   "cell_type": "code",
   "execution_count": 37,
   "metadata": {},
   "outputs": [
    {
     "data": {
      "text/plain": [
       "<AxesSubplot:title={'center':'Westeros Energy System Capacity'}, xlabel='Year', ylabel='GW'>"
      ]
     },
     "execution_count": 37,
     "metadata": {},
     "output_type": "execute_result"
    },
    {
     "data": {
      "image/png": "[encoded data removed]",
      "text/plain": [
       "<Figure size 432x288 with 1 Axes>"
      ]
     },
     "metadata": {
      "needs_background": "light"
     },
     "output_type": "display_data"
    }
   ],
   "source": [
    "rep.get(\"plot capacity\")"
   ]
  },
  {
   "cell_type": "markdown",
   "metadata": {},
   "source": [
    "### Electricity Price\n",
    "\n",
    "And how much does the electricity cost? These prices are in fact **shadow prices** taken from the **dual variables** of the model solution. They reflect the marginal cost of electricity generation (i.e., the additional cost of the system for supplying one more unit of electricity), which is in fact the marginal cost of the most expensive generator.  \n",
    "\n",
    "Notice the drop in the price in the period of 710? \n",
    "\n",
    "The share of the activity of the coal power plant is in the period of 710 higher then the share in the period of 700. With lower electricity costs of the coal power plant, this leads to reduced electricity costs. To stay within the emission bounds with an increased electricity demand, in the upcoming period of 720, the capacity of the wind turbines increases drastically, while the capacity of the coal power plants remains the same. This results in the increased electricity price."
   ]
  },
  {
   "cell_type": "code",
   "execution_count": 14,
   "metadata": {},
   "outputs": [
    {
     "data": {
      "text/plain": [
       "<AxesSubplot:title={'center':'Westeros Energy System Prices'}, xlabel='Year', ylabel='¢/kW·h'>"
      ]
     },
     "execution_count": 14,
     "metadata": {},
     "output_type": "execute_result"
    },
    {
     "data": {
      "image/png": "[encoded data removed]",
      "text/plain": [
       "<Figure size 432x288 with 1 Axes>"
      ]
     },
     "metadata": {
      "needs_background": "light"
     },
     "output_type": "display_data"
    }
   ],
   "source": [
    "rep.set_filters(t=None, c=[\"light\"])\n",
    "rep.get(\"plot prices\")"
   ]
  },
  {
   "cell_type": "markdown",
   "metadata": {},
   "source": [
    "## Close the connection to the database"
   ]
  },
  {
   "cell_type": "code",
   "execution_count": 38,
   "metadata": {},
   "outputs": [],
   "source": [
    "mp.close_db()"
   ]
  }
 ],
 "metadata": {
  "kernelspec": {
   "display_name": "Python 3 (ipykernel)",
   "language": "python",
   "name": "python3"
  },
  "language_info": {
   "codemirror_mode": {
    "name": "ipython",
    "version": 3
   },
   "file_extension": ".py",
   "mimetype": "text/x-python",
   "name": "python",
   "nbconvert_exporter": "python",
   "pygments_lexer": "ipython3",
   "version": "3.9.13"
  }
 },
 "nbformat": 4,
 "nbformat_minor": 2
}
